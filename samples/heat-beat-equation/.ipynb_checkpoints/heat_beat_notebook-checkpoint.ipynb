{
 "cells": [
  {
   "cell_type": "code",
   "execution_count": 1,
   "metadata": {},
   "outputs": [],
   "source": [
    "from fenics import *\n",
    "import numpy as np\n",
    "\n",
    "%matplotlib inline"
   ]
  },
  {
   "cell_type": "code",
   "execution_count": 2,
   "metadata": {},
   "outputs": [],
   "source": [
    "# Equation parameters\n",
    "T = 2.0\n",
    "num_steps = 10\n",
    "dt = T / num_steps\n",
    "\n",
    "alpha = 3\n",
    "beta = 1.2"
   ]
  },
  {
   "cell_type": "code",
   "execution_count": 3,
   "metadata": {},
   "outputs": [],
   "source": [
    "# Create mesh and define function space\n",
    "nx = ny = 8\n",
    "mesh = UnitSquareMesh(nx, ny)\n",
    "V = FunctionSpace(mesh, 'P', 1)"
   ]
  },
  {
   "cell_type": "code",
   "execution_count": 4,
   "metadata": {},
   "outputs": [],
   "source": [
    "# Boundary condition\n",
    "def boundary(x, on_boundary):\n",
    "    return on_boundary\n",
    "\n",
    "u_D = Expression('1 + x[0]*x[0] + alpha*x[1]*x[1] + beta*t', degree=2, alpha=alpha, beta=beta, t=0)\n",
    "bc = DirichletBC(V, u_D, boundary)"
   ]
  },
  {
   "cell_type": "code",
   "execution_count": 5,
   "metadata": {},
   "outputs": [],
   "source": [
    "#Define initial value at time = 0\n",
    "u_n = project(u_D, V)"
   ]
  },
  {
   "cell_type": "code",
   "execution_count": 6,
   "metadata": {},
   "outputs": [],
   "source": [
    "#Define problem\n",
    "u = TrialFunction(V)\n",
    "v = TestFunction(V)\n",
    "f = Constant(beta - 2 - 2 * alpha)\n",
    "\n",
    "F = u*v*dx + dt*dot(grad(u), grad(v))*dx - (u_n + dt*f)*v*dx\n",
    "a, L = lhs(F), rhs(F)"
   ]
  },
  {
   "cell_type": "code",
   "execution_count": 7,
   "metadata": {
    "scrolled": false
   },
   "outputs": [
    {
     "name": "stdout",
     "output_type": "stream",
     "text": [
      "t = 0.00, error = 0.07\n",
      "t = 0.20, error = 0.01\n",
      "t = 0.40, error = 0.00\n",
      "t = 0.60, error = 0.00\n",
      "t = 0.80, error = 0.00\n",
      "t = 1.00, error = 0.00\n",
      "t = 1.20, error = 0.00\n",
      "t = 1.40, error = 0.00\n",
      "t = 1.60, error = 0.00\n",
      "t = 1.80, error = 0.00\n"
     ]
    },
    {
     "data": {
      "image/png": "[encoded data removed]",
      "text/plain": [
       "<Figure size 432x288 with 1 Axes>"
      ]
     },
     "metadata": {
      "needs_background": "light"
     },
     "output_type": "display_data"
    }
   ],
   "source": [
    "# Time-stepping solution\n",
    "u = Function(V)\n",
    "t = 0\n",
    "\n",
    "vtkfile = File('heat_gaussian_solution/solution.pvd')\n",
    "\n",
    "for n in range(num_steps):\n",
    "    solve(a == L, u, bc)\n",
    "    \n",
    "    vtkfile << (u, t)\n",
    "    plot(u)\n",
    "    \n",
    "    vertex_values_u = u.compute_vertex_values(mesh)\n",
    "    u_e = u_D.compute_vertex_values(mesh)\n",
    "    error = np.abs(vertex_values_u - u_e).max()\n",
    "    \n",
    "    print('t = %.2f, error = %.2f' % (t, error))\n",
    "    \n",
    "    # Update previous solution\n",
    "    u_n.assign(u)\n",
    "    \n",
    "    # Update current time\n",
    "    t += dt\n",
    "    u_D.t = t"
   ]
  }
 ],
 "metadata": {
  "kernelspec": {
   "display_name": "Python 3",
   "language": "python",
   "name": "python3"
  },
  "language_info": {
   "codemirror_mode": {
    "name": "ipython",
    "version": 3
   },
   "file_extension": ".py",
   "mimetype": "text/x-python",
   "name": "python",
   "nbconvert_exporter": "python",
   "pygments_lexer": "ipython3",
   "version": "3.6.5"
  }
 },
 "nbformat": 4,
 "nbformat_minor": 2
}
